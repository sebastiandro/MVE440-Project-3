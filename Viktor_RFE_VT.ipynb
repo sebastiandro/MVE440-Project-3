{
  "nbformat": 4,
  "nbformat_minor": 0,
  "metadata": {
    "colab": {
      "name": "BigData3.ipynb",
      "version": "0.3.2",
      "provenance": [],
      "collapsed_sections": []
    },
    "kernelspec": {
      "name": "python3",
      "display_name": "Python 3"
    }
  },
  "cells": [
    {
      "cell_type": "code",
      "metadata": {
        "id": "mYTUt50x9mRw",
        "colab_type": "code",
        "colab": {}
      },
      "source": [
        "import matplotlib.pyplot as plt\n",
        "import matplotlib\n",
        "import numpy as np\n",
        "import random\n",
        "import math\n",
        "from sklearn.utils import shuffle\n",
        "\n",
        "\n",
        "def GenerateGaussianData(means, stds, datapoints):\n",
        "    nrClasses = len(means)\n",
        "    nrFeatures = len(means[0])\n",
        "    Xdata = []\n",
        "    Ydata = []\n",
        "    for i in range(nrClasses):\n",
        "        for j in range(datapoints[i]):\n",
        "            features = []\n",
        "            for k in range(nrFeatures):\n",
        "                features.append(np.random.normal(\n",
        "                    loc=means[i][k], scale=stds[i][k], size=None))\n",
        "            Xdata.append(features)\n",
        "            Ydata.append(i)\n",
        "    Xdata = np.array(Xdata)\n",
        "    Ydata = np.array(Ydata)\n",
        "    Xdata, Ydata = shuffle(Xdata, Ydata)\n",
        "    return Xdata, Ydata\n",
        "\n",
        "\n",
        "def gaussian_clusters(nr_features=2, nr_classes=4, nr_data_points=10, \\\n",
        "                      random_diag=False, super_mega_random=False, variance_size=1):\n",
        "    \n",
        "    if super_mega_random:\n",
        "        sigma = np.random.rand(nr_classes,nr_features)*variance_size\n",
        "    elif random_diag:\n",
        "        sigma = np.random.rand(nr_classes,nr_features)\n",
        "        sigma[sigma > 0.5] = 1*variance_size\n",
        "        sigma[sigma <= 0.5] = 0.01\n",
        "    else:    \n",
        "        sigma = [np.append([1]*(nr_features//2), [0.01]\n",
        "                           * (nr_features-nr_features//2))]*nr_classes\n",
        "    \n",
        "    \n",
        "    means = np.random.normal(0, 0.2, (nr_classes, nr_features))\n",
        "    dataPoints = [nr_data_points] * nr_classes\n",
        "    Xdat, Ydat = GenerateGaussianData(means, sigma, dataPoints)\n",
        "    \n",
        "    #dist = np.zeros(nr_classes)\n",
        "    #for i in range(nr_classes):\n",
        "    #  dist[i] = np.linalg.norm(means[0,:]-means[i,:])\n",
        "    #print(dist)\n",
        "    \n",
        "    return Xdat, Ydat"
      ],
      "execution_count": 0,
      "outputs": []
    },
    {
      "cell_type": "markdown",
      "metadata": {
        "id": "-ORCigSC-XbT",
        "colab_type": "text"
      },
      "source": [
        "Generate data"
      ]
    },
    {
      "cell_type": "code",
      "metadata": {
        "id": "Mw4ooyrq9olU",
        "colab_type": "code",
        "colab": {}
      },
      "source": [
        "from sklearn.model_selection import train_test_split\n",
        "\n",
        "X,y = gaussian_clusters(nr_features=100, nr_classes=200, \\\n",
        "                           nr_data_points=100, random_diag=True, variance_size=1)\n",
        "X_train, X_test, y_train, y_test = train_test_split(\n",
        "    X, y, test_size=0.33, random_state=42)"
      ],
      "execution_count": 0,
      "outputs": []
    },
    {
      "cell_type": "markdown",
      "metadata": {
        "id": "cb-lSzBb-cUB",
        "colab_type": "text"
      },
      "source": [
        "Apply RFE model"
      ]
    },
    {
      "cell_type": "code",
      "metadata": {
        "id": "W3RLqS4H9qHl",
        "colab_type": "code",
        "colab": {}
      },
      "source": [
        "from sklearn.discriminant_analysis import LinearDiscriminantAnalysis\n",
        "from sklearn.feature_selection import RFE\n",
        "\n",
        "model = LinearDiscriminantAnalysis()\n",
        "\n",
        "# Train model\n",
        "rfe = RFE(model,50)\n",
        "rfe = rfe.fit(X_train,y_train)\n",
        "\n",
        "orig = model.fit(X_train,y_train)\n",
        "\n",
        "# Print selected features and ranking of unselected\n",
        "#print(rfe.ranking_)"
      ],
      "execution_count": 0,
      "outputs": []
    },
    {
      "cell_type": "markdown",
      "metadata": {
        "id": "lgeDZV5f-foX",
        "colab_type": "text"
      },
      "source": [
        "Evaluate RFE model"
      ]
    },
    {
      "cell_type": "code",
      "metadata": {
        "id": "0oy-RIAm9rie",
        "colab_type": "code",
        "outputId": "1ddcb324-a7ea-4a12-80cc-148d02d4bd26",
        "colab": {
          "base_uri": "https://localhost:8080/",
          "height": 51
        }
      },
      "source": [
        "score_rfe = rfe.score(X_test,y_test)\n",
        "score_orig = orig.score(X_test,y_test)\n",
        "\n",
        "# Print scores\n",
        "print(score_rfe)\n",
        "print(score_orig)"
      ],
      "execution_count": 4,
      "outputs": [
        {
          "output_type": "stream",
          "text": [
            "0.23742424242424243\n",
            "0.42424242424242425\n"
          ],
          "name": "stdout"
        }
      ]
    },
    {
      "cell_type": "markdown",
      "metadata": {
        "id": "hibWwU6C-jmb",
        "colab_type": "text"
      },
      "source": [
        "Filter with variance threshold + evaluation"
      ]
    },
    {
      "cell_type": "code",
      "metadata": {
        "id": "Z2x_D6s2-oVx",
        "colab_type": "code",
        "outputId": "8817317d-75fc-4c2a-dc61-2657ea6f8ee3",
        "colab": {
          "base_uri": "https://localhost:8080/",
          "height": 51
        }
      },
      "source": [
        "from sklearn.feature_selection import VarianceThreshold\n",
        "from sklearn.neighbors import NearestNeighbors, KNeighborsClassifier\n",
        "\n",
        "selector = VarianceThreshold(0.55)\n",
        "X_high_variance = selector.fit_transform(X_train,y_train)\n",
        "\n",
        "# Train model\n",
        "neigh = KNeighborsClassifier(n_neighbors=30)\n",
        "neigh.fit(X_high_variance,y_train);\n",
        "score_vt = neigh.score(selector.transform(X_test), y_test)\n",
        "\n",
        "neigh.fit(X_train,y_train);\n",
        "score_orig = neigh.score(X_test,y_test)\n",
        "\n",
        "# Print scores\n",
        "print(score_vt)\n",
        "print(score_orig)\n"
      ],
      "execution_count": 5,
      "outputs": [
        {
          "output_type": "stream",
          "text": [
            "0.13893939393939395\n",
            "0.2912121212121212\n"
          ],
          "name": "stdout"
        }
      ]
    }
  ]
}